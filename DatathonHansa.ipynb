{
  "nbformat": 4,
  "nbformat_minor": 0,
  "metadata": {
    "colab": {
      "name": "DatathonHansa.ipynb",
      "provenance": [],
      "mount_file_id": "1LcdZLlDFhqgurkp3TNylTELK4clafB3F",
      "authorship_tag": "ABX9TyMnyvY4AiL9JhZpbFHXRXOu",
      "include_colab_link": true
    },
    "kernelspec": {
      "name": "python3",
      "display_name": "Python 3"
    },
    "language_info": {
      "name": "python"
    }
  },
  "cells": [
    {
      "cell_type": "markdown",
      "metadata": {
        "id": "view-in-github",
        "colab_type": "text"
      },
      "source": [
        "<a href=\"https://colab.research.google.com/github/hansa31/Datathon2022/blob/main/DatathonHansa.ipynb\" target=\"_parent\"><img src=\"https://colab.research.google.com/assets/colab-badge.svg\" alt=\"Open In Colab\"/></a>"
      ]
    },
    {
      "cell_type": "code",
      "execution_count": 1,
      "metadata": {
        "id": "Ld-aMZ7PpCJa"
      },
      "outputs": [],
      "source": [
        "! pip install -q kaggle\n"
      ]
    },
    {
      "cell_type": "code",
      "source": [
        "! pwd\n"
      ],
      "metadata": {
        "colab": {
          "base_uri": "https://localhost:8080/"
        },
        "id": "d-2j3qyst_Q0",
        "outputId": "cb553a37-52e2-46db-98f1-14f51a479ec7"
      },
      "execution_count": 1,
      "outputs": [
        {
          "output_type": "stream",
          "name": "stdout",
          "text": [
            "/content\n"
          ]
        }
      ]
    },
    {
      "cell_type": "code",
      "source": [
        "cd drive\n"
      ],
      "metadata": {
        "colab": {
          "base_uri": "https://localhost:8080/"
        },
        "id": "rFDaUC9ovKy7",
        "outputId": "493f8be8-ce92-438e-8741-724f92792468"
      },
      "execution_count": 6,
      "outputs": [
        {
          "output_type": "stream",
          "name": "stdout",
          "text": [
            "/content/drive\n"
          ]
        }
      ]
    },
    {
      "cell_type": "code",
      "source": [
        "cd MyDrive/SLIIT_Datathon/Kaggle_H/\n"
      ],
      "metadata": {
        "colab": {
          "base_uri": "https://localhost:8080/"
        },
        "id": "eWKVKrDVvaEa",
        "outputId": "b03550fd-9c5c-4809-fb02-ced5409d068f"
      },
      "execution_count": 7,
      "outputs": [
        {
          "output_type": "stream",
          "name": "stdout",
          "text": [
            "/content/drive/.shortcut-targets-by-id/1O9LqeZFL_PcVlvEHq76icalAy5J-FMSA/SLIIT_Datathon/Kaggle_H\n"
          ]
        }
      ]
    },
    {
      "cell_type": "code",
      "source": [
        "pwd\n"
      ],
      "metadata": {
        "colab": {
          "base_uri": "https://localhost:8080/",
          "height": 35
        },
        "id": "Ujc6MPhTvrcV",
        "outputId": "dc385614-4c44-41c7-cb52-89ed5ca869d6"
      },
      "execution_count": 8,
      "outputs": [
        {
          "output_type": "execute_result",
          "data": {
            "application/vnd.google.colaboratory.intrinsic+json": {
              "type": "string"
            },
            "text/plain": [
              "'/content/drive/.shortcut-targets-by-id/1O9LqeZFL_PcVlvEHq76icalAy5J-FMSA/SLIIT_Datathon/Kaggle_H'"
            ]
          },
          "metadata": {},
          "execution_count": 8
        }
      ]
    },
    {
      "cell_type": "code",
      "source": [
        "# install kaggle API client\n",
        "! pip install -q kaggle"
      ],
      "metadata": {
        "id": "QhzTbX7tvwy7"
      },
      "execution_count": 10,
      "outputs": []
    },
    {
      "cell_type": "code",
      "source": [
        "! mkdir -p ~/.kaggle\n",
        "! cp kaggle.json ~/.kaggle/"
      ],
      "metadata": {
        "id": "YlSwXwg0v5tG"
      },
      "execution_count": 17,
      "outputs": []
    },
    {
      "cell_type": "code",
      "source": [
        "! chmod 600 ~/.kaggle/kaggle.json"
      ],
      "metadata": {
        "id": "nXeHo-0Sv-Mi"
      },
      "execution_count": 18,
      "outputs": []
    },
    {
      "cell_type": "code",
      "source": [
        "\n",
        "! kaggle datasets download -d ethon0426/lending-club-20072020q1"
      ],
      "metadata": {
        "colab": {
          "base_uri": "https://localhost:8080/"
        },
        "id": "zfXpMj7CwAqa",
        "outputId": "c754a893-d888-46a0-bc04-f748a8dc21ed"
      },
      "execution_count": 22,
      "outputs": [
        {
          "output_type": "stream",
          "name": "stdout",
          "text": [
            "Downloading lending-club-20072020q1.zip to /content/drive/.shortcut-targets-by-id/1O9LqeZFL_PcVlvEHq76icalAy5J-FMSA/SLIIT_Datathon/Kaggle_H\n",
            " 97% 469M/482M [00:04<00:00, 107MB/s] \n",
            "100% 482M/482M [00:04<00:00, 109MB/s]\n"
          ]
        }
      ]
    },
    {
      "cell_type": "code",
      "source": [
        "pwd"
      ],
      "metadata": {
        "colab": {
          "base_uri": "https://localhost:8080/",
          "height": 35
        },
        "id": "tkOPteSfwekT",
        "outputId": "c9811574-6e99-4789-9031-cb1190a1fb78"
      },
      "execution_count": 23,
      "outputs": [
        {
          "output_type": "execute_result",
          "data": {
            "application/vnd.google.colaboratory.intrinsic+json": {
              "type": "string"
            },
            "text/plain": [
              "'/content/drive/.shortcut-targets-by-id/1O9LqeZFL_PcVlvEHq76icalAy5J-FMSA/SLIIT_Datathon/Kaggle_H'"
            ]
          },
          "metadata": {},
          "execution_count": 23
        }
      ]
    },
    {
      "cell_type": "code",
      "source": [
        ""
      ],
      "metadata": {
        "id": "Ti5zWYd0yga8"
      },
      "execution_count": null,
      "outputs": []
    }
  ]
}